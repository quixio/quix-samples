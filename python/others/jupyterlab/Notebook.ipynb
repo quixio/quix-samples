{
 "cells": [
  {
   "cell_type": "code",
   "execution_count": 8,
   "id": "5e598c31-3b11-405b-acdc-c6665378e9ec",
   "metadata": {},
   "outputs": [],
   "source": [
    "topic=\"your-topic-name\""
   ]
  },
  {
   "cell_type": "code",
   "execution_count": null,
   "id": "eabc6a12-848f-4b30-a92b-ef49c85dcef7",
   "metadata": {},
   "outputs": [],
   "source": [
    "from quixstreams import Application\n",
    "from quixstreams.sinks.core.list import ListSink\n",
    "\n",
    "import os\n",
    "\n",
    "\n",
    "# Setup necessary objects\n",
    "app = Application(\n",
    "    consumer_group=\"topic-query-v1\",\n",
    "    auto_offset_reset=\"earliest\"\n",
    ")\n",
    "input_topic = app.topic(name=topic)\n",
    "sdf = app.dataframe(topic=input_topic)\n",
    "\n",
    "list_sink = ListSink()  # sink will be a list-like object\n",
    "sdf.sink(list_sink)\n",
    "\n",
    "app.run(timeout=3.0, count=100)"
   ]
  },
  {
   "cell_type": "code",
   "execution_count": null,
   "id": "5c3437f0-aa8a-41a8-b85a-62a79fe712da",
   "metadata": {},
   "outputs": [],
   "source": [
    "import pandas as pd\n",
    "df = pd.DataFrame(list_sink)\n",
    "df.head(10)"
   ]
  },
  {
   "cell_type": "code",
   "execution_count": null,
   "id": "d7ee9398-28d7-4934-90ba-076ec25f1ef0",
   "metadata": {},
   "outputs": [],
   "source": []
  }
 ],
 "metadata": {
  "kernelspec": {
   "display_name": "Python 3 (ipykernel)",
   "language": "python",
   "name": "python3"
  },
  "language_info": {
   "codemirror_mode": {
    "name": "ipython",
    "version": 3
   },
   "file_extension": ".py",
   "mimetype": "text/x-python",
   "name": "python",
   "nbconvert_exporter": "python",
   "pygments_lexer": "ipython3",
   "version": "3.11.12"
  }
 },
 "nbformat": 4,
 "nbformat_minor": 5
}
